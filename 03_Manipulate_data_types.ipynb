{
  "cells": [
    {
      "cell_type": "markdown",
      "metadata": {
        "id": "view-in-github",
        "colab_type": "text"
      },
      "source": [
        "<a href=\"https://colab.research.google.com/github/mmatthieu1290/testrepo/blob/main/03_Manipulate_data_types.ipynb\" target=\"_parent\"><img src=\"https://colab.research.google.com/assets/colab-badge.svg\" alt=\"Open In Colab\"/></a>"
      ]
    },
    {
      "cell_type": "markdown",
      "metadata": {
        "id": "kFGKKN4vbaaE"
      },
      "source": [
        "# Lists"
      ]
    },
    {
      "cell_type": "markdown",
      "metadata": {
        "id": "UlVSgMBObdHP"
      },
      "source": [
        "Here is a list ```[\"Hello\", \"I\", “Michel”, “am”]```\n",
        "\n",
        "1. Store this list in a variable we will call ```my_list```\n",
        "\n",
        "2. Make a loop so that the console returns each of the items in the list\n"
      ]
    },
    {
      "cell_type": "code",
      "execution_count": null,
      "metadata": {
        "id": "RnQP07OQbJZy"
      },
      "outputs": [],
      "source": [
        "my_list = [\"Hello\", \"I\", \"Michel\", \"am\"]"
      ]
    },
    {
      "cell_type": "code",
      "source": [
        "for element in my_list:\n",
        "  print(element)"
      ],
      "metadata": {
        "colab": {
          "base_uri": "https://localhost:8080/"
        },
        "id": "VcN9F7ruGyqM",
        "outputId": "b2d0c203-de46-4847-c918-5685150ad85d"
      },
      "execution_count": null,
      "outputs": [
        {
          "output_type": "stream",
          "name": "stdout",
          "text": [
            "Hello\n",
            "I\n",
            "Michel\n",
            "am\n"
          ]
        }
      ]
    },
    {
      "cell_type": "markdown",
      "metadata": {
        "id": "hrZ1HLVneoRC"
      },
      "source": [
        "Here's a list of ages: ```[12, 16, 34, 58, 9]```.\n",
        "\n",
        "1. Store this age list in a variable that we'll call ```age``` \n",
        "\n",
        "2. We would like this list to be arranged in ascending order, how do we do that?"
      ]
    },
    {
      "cell_type": "code",
      "execution_count": null,
      "metadata": {
        "colab": {
          "base_uri": "https://localhost:8080/"
        },
        "id": "vRrlfGsQb0TA",
        "outputId": "bd3d5819-69a9-4fb8-e745-7e48f69d1701"
      },
      "outputs": [
        {
          "output_type": "execute_result",
          "data": {
            "text/plain": [
              "[9, 12, 16, 34, 58]"
            ]
          },
          "metadata": {},
          "execution_count": 7
        }
      ],
      "source": [
        "age = [12, 16, 34, 58, 9]\n",
        "age.sort()\n",
        "age"
      ]
    },
    {
      "cell_type": "markdown",
      "metadata": {
        "id": "hyAAuD2-fFMD"
      },
      "source": [
        "# Dictionaries"
      ]
    },
    {
      "cell_type": "markdown",
      "metadata": {
        "id": "3-kpKLpmfKGM"
      },
      "source": [
        "We told you that dictionaries are very useful with APIs, so let's try to use the Star Wars API.\n",
        "\n",
        "1. In your text editor, write:\n",
        "    \n",
        "\n",
        "\n",
        "```\n",
        "pip install requests\n",
        "import requests\n",
        "request = requests.get(\"https://swapi.dev/api/people/1/\")\n",
        "dic = request.json()\n",
        "```\n",
        "\n",
        "2. This will make it possible to call the Star Wars API to store it on a dictionary format in a variable called ```dic```.\n",
        "    \n",
        "3. See what's in the dictionary via a loop\n",
        "    \n",
        "4. We'd like to make a nice phrase to describe the character like this: \n",
        "    \n",
        "```“{{name}} is {{height}} cm tall and weighs {{mass}} kg. He was born in {{birth_year}}”```\n"
      ]
    },
    {
      "cell_type": "code",
      "execution_count": null,
      "metadata": {
        "colab": {
          "base_uri": "https://localhost:8080/"
        },
        "id": "Ef9wS-ule6Rs",
        "outputId": "e41b9626-5193-4465-b8da-a2ca3b089b30"
      },
      "outputs": [
        {
          "output_type": "stream",
          "name": "stdout",
          "text": [
            "Requirement already satisfied: requests in /usr/local/lib/python3.7/dist-packages (2.23.0)\n",
            "Requirement already satisfied: chardet<4,>=3.0.2 in /usr/local/lib/python3.7/dist-packages (from requests) (3.0.4)\n",
            "Requirement already satisfied: idna<3,>=2.5 in /usr/local/lib/python3.7/dist-packages (from requests) (2.10)\n",
            "Requirement already satisfied: urllib3!=1.25.0,!=1.25.1,<1.26,>=1.21.1 in /usr/local/lib/python3.7/dist-packages (from requests) (1.24.3)\n",
            "Requirement already satisfied: certifi>=2017.4.17 in /usr/local/lib/python3.7/dist-packages (from requests) (2021.10.8)\n"
          ]
        }
      ],
      "source": [
        "!pip install requests\n",
        "import requests\n",
        "request = requests.get(\"https://swapi.dev/api/people/1/\")\n",
        "dic = request.json()"
      ]
    },
    {
      "cell_type": "code",
      "execution_count": null,
      "metadata": {
        "colab": {
          "base_uri": "https://localhost:8080/",
          "height": 408
        },
        "id": "UDTGrmOUfmgh",
        "outputId": "781ee5be-fe94-48e0-cf5f-e78bd69aa381"
      },
      "outputs": [
        {
          "data": {
            "text/plain": [
              "{'birth_year': '19BBY',\n",
              " 'created': '2014-12-09T13:50:51.644000Z',\n",
              " 'edited': '2014-12-20T21:17:56.891000Z',\n",
              " 'eye_color': 'blue',\n",
              " 'films': ['https://swapi.co/api/films/2/',\n",
              "  'https://swapi.co/api/films/6/',\n",
              "  'https://swapi.co/api/films/3/',\n",
              "  'https://swapi.co/api/films/1/',\n",
              "  'https://swapi.co/api/films/7/'],\n",
              " 'gender': 'male',\n",
              " 'hair_color': 'blond',\n",
              " 'height': '172',\n",
              " 'homeworld': 'https://swapi.co/api/planets/1/',\n",
              " 'mass': '77',\n",
              " 'name': 'Luke Skywalker',\n",
              " 'skin_color': 'fair',\n",
              " 'species': ['https://swapi.co/api/species/1/'],\n",
              " 'starships': ['https://swapi.co/api/starships/12/',\n",
              "  'https://swapi.co/api/starships/22/'],\n",
              " 'url': 'https://swapi.co/api/people/1/',\n",
              " 'vehicles': ['https://swapi.co/api/vehicles/14/',\n",
              "  'https://swapi.co/api/vehicles/30/']}"
            ]
          },
          "execution_count": 13,
          "metadata": {
            "tags": []
          },
          "output_type": "execute_result"
        }
      ],
      "source": [
        ""
      ]
    },
    {
      "cell_type": "markdown",
      "metadata": {
        "id": "7DBymkERgDDu"
      },
      "source": [
        "- Import a new character by changing :\n",
        "    \n",
        "    \n",
        "```\n",
        "request = requests.get(\"https://swapi.dev/api/people/1/\")\n",
        "```\n",
        "\n",
        "by\n",
        "\n",
        "\n",
        "```\n",
        "request = requests.get(\"https://swapi.dev/api/people/5/\")\n",
        "```\n",
        "\n",
        "- Re-run your code, do you see a problem? Try to fix it.\n"
      ]
    },
    {
      "cell_type": "code",
      "execution_count": null,
      "metadata": {
        "colab": {
          "base_uri": "https://localhost:8080/"
        },
        "id": "0AWON7CZf_aI",
        "outputId": "e8f364a0-94a9-41fd-955b-b35eea66e57c"
      },
      "outputs": [
        {
          "output_type": "execute_result",
          "data": {
            "text/plain": [
              "{'birth_year': '19BBY',\n",
              " 'created': '2014-12-10T15:20:09.791000Z',\n",
              " 'edited': '2014-12-20T21:17:50.315000Z',\n",
              " 'eye_color': 'brown',\n",
              " 'films': ['https://swapi.dev/api/films/1/',\n",
              "  'https://swapi.dev/api/films/2/',\n",
              "  'https://swapi.dev/api/films/3/',\n",
              "  'https://swapi.dev/api/films/6/'],\n",
              " 'gender': 'female',\n",
              " 'hair_color': 'brown',\n",
              " 'height': '150',\n",
              " 'homeworld': 'https://swapi.dev/api/planets/2/',\n",
              " 'mass': '49',\n",
              " 'name': 'Leia Organa',\n",
              " 'skin_color': 'light',\n",
              " 'species': [],\n",
              " 'starships': [],\n",
              " 'url': 'https://swapi.dev/api/people/5/',\n",
              " 'vehicles': ['https://swapi.dev/api/vehicles/30/']}"
            ]
          },
          "metadata": {},
          "execution_count": 10
        }
      ],
      "source": [
        "request = requests.get(\"https://swapi.dev/api/people/5/\")\n",
        "dic = request.json()\n",
        "dic"
      ]
    },
    {
      "cell_type": "code",
      "source": [
        "if dic['gender'] == 'female':\n",
        "  gender = 'She'\n",
        "elif dic['gender'] == 'male':\n",
        "  gender = 'He'  \n",
        "else:\n",
        "  gender = 'She or he'  \n",
        "print(\"{} is {} cm tall and weighs {} kg. {} was born in {}\".format(dic[\"name\"], dic[\"height\"], dic[\"mass\"],gender, dic[\"birth_year\"]))\n"
      ],
      "metadata": {
        "colab": {
          "base_uri": "https://localhost:8080/"
        },
        "id": "4TORqKi4I2Or",
        "outputId": "2967159d-0391-454c-facc-98253a76a021"
      },
      "execution_count": null,
      "outputs": [
        {
          "output_type": "stream",
          "name": "stdout",
          "text": [
            "Leia Organa is 150 cm tall and weighs 49 kg. She was born in 19BBY\n"
          ]
        }
      ]
    },
    {
      "cell_type": "markdown",
      "metadata": {
        "id": "aQsKk1BKg4Mt"
      },
      "source": [
        "# Slices"
      ]
    },
    {
      "cell_type": "markdown",
      "metadata": {
        "id": "0PIM5zcfg94N"
      },
      "source": [
        " We have the following dataset: `kilometres_travelled = [50, 10, 100, 25, 1000, 21, 12,30]`\n",
        " \n",
        "1. This variable represents a list of kilometres travelled every morning by 8 users to work.\n",
        "\n",
        "2. Using a loop, calculate the total average of all the users' trips\n",
        "\n",
        "3. Is this average representative of what all individuals really go through? Why do you think so?"
      ]
    },
    {
      "cell_type": "code",
      "execution_count": null,
      "metadata": {
        "colab": {
          "base_uri": "https://localhost:8080/"
        },
        "id": "GbysQcOhgfhF",
        "outputId": "49c95c32-7894-42b6-8f07-036e9536cc37"
      },
      "outputs": [
        {
          "output_type": "stream",
          "name": "stdout",
          "text": [
            "156.0\n"
          ]
        },
        {
          "output_type": "execute_result",
          "data": {
            "text/plain": [
              "1000"
            ]
          },
          "metadata": {},
          "execution_count": 30
        }
      ],
      "source": [
        "kilometres_travelled = [50, 10, 100, 25, 1000, 21, 12,30]\n",
        "def mean_list(l): \n",
        " S = 0\n",
        " le = 0\n",
        " for element in l:\n",
        "  S += element\n",
        "  le += 1\n",
        " average = S/le\n",
        " return average\n",
        "\n",
        "print(mean_list(kilometres_travelled))\n",
        "\n",
        "new_kilometres_travelled = kilometres_travelled.copy()\n",
        "\n",
        "new_kilometres_travelled.pop(4)"
      ]
    },
    {
      "cell_type": "code",
      "source": [
        "mean_list(new_kilometres_travelled)"
      ],
      "metadata": {
        "colab": {
          "base_uri": "https://localhost:8080/"
        },
        "id": "LLRijGzoLkPy",
        "outputId": "88fcad7d-d0c3-43d7-cb62-a85936a8ac0f"
      },
      "execution_count": null,
      "outputs": [
        {
          "output_type": "execute_result",
          "data": {
            "text/plain": [
              "35.42857142857143"
            ]
          },
          "metadata": {},
          "execution_count": 31
        }
      ]
    },
    {
      "cell_type": "code",
      "metadata": {
        "id": "BIuuQo3vAQJS"
      },
      "source": [
        "This average is not really representative because it is higher than most of the values in the list. Indeed, the distances are all <= 100kms, except one which is worth 1000kms.\n",
        "\n",
        "This value is what is called an **outlier**, which probably corresponds to an erroneous entry (it seems unlikely that someone would travel 1000kms every morning to work). \n",
        "\n",
        "To get a more representative average of the sample, this outlier could be removed from the list before calculating the average."
      ],
      "execution_count": null,
      "outputs": []
    },
    {
      "cell_type": "markdown",
      "metadata": {
        "id": "VL5vB43YhJV5"
      },
      "source": [
        "4. Change the variable ```kilometers_travelled``` to have a more representative average\n"
      ]
    },
    {
      "cell_type": "code",
      "execution_count": null,
      "metadata": {
        "id": "aGb9664fGkZp",
        "outputId": "71054ca9-a45e-44d1-c63b-e71816a3798e"
      },
      "outputs": [
        {
          "output_type": "stream",
          "name": "stdout",
          "text": "On average, users travelled 35.42857142857143 km to get to work.\n"
        }
      ],
      "source": [
        ""
      ]
    }
  ],
  "metadata": {
    "colab": {
      "collapsed_sections": [],
      "name": "03-Manipulate_data_types.ipynb",
      "provenance": [],
      "include_colab_link": true
    },
    "kernelspec": {
      "display_name": "Python 3",
      "language": "python",
      "name": "python3"
    },
    "language_info": {
      "codemirror_mode": {
        "name": "ipython",
        "version": 3
      },
      "file_extension": ".py",
      "mimetype": "text/x-python",
      "name": "python",
      "nbconvert_exporter": "python",
      "pygments_lexer": "ipython3",
      "version": "3.7.3-final"
    }
  },
  "nbformat": 4,
  "nbformat_minor": 0
}